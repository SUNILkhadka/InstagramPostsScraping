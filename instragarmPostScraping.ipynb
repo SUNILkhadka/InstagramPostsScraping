{
 "cells": [
  {
   "cell_type": "code",
   "execution_count": 79,
   "id": "0430e2ca-e26f-40cd-a491-31164ad78173",
   "metadata": {},
   "outputs": [],
   "source": [
    "import time\n",
    "import wget\n",
    "import os\n",
    "from selenium import webdriver\n",
    "from selenium.webdriver.common.by import By\n",
    "from selenium.webdriver.common.keys import Keys\n",
    "from selenium.webdriver.support.wait import WebDriverWait\n",
    "from selenium.webdriver.support import expected_conditions as EC"
   ]
  },
  {
   "cell_type": "code",
   "execution_count": 108,
   "id": "8e276c82-b82e-4211-8580-1ef9816eadf9",
   "metadata": {},
   "outputs": [
    {
     "name": "stderr",
     "output_type": "stream",
     "text": [
      "/tmp/ipykernel_71393/1319639555.py:9: DeprecationWarning: executable_path has been deprecated, please pass in a Service object\n",
      "  self.driver = webdriver.Chrome('/home/Bingo/App/driver/chromedriver')\n",
      "/tmp/ipykernel_71393/1319639555.py:68: DeprecationWarning: find_elements_by_* commands are deprecated. Please use find_elements() instead\n",
      "  anchors = self.driver.find_elements_by_tag_name('a')\n"
     ]
    },
    {
     "name": "stdout",
     "output_type": "stream",
     "text": [
      "Found 30 links to images\n"
     ]
    },
    {
     "name": "stderr",
     "output_type": "stream",
     "text": [
      "/tmp/ipykernel_71393/1319639555.py:86: DeprecationWarning: find_elements_by_* commands are deprecated. Please use find_elements() instead\n",
      "  if self.driver.find_elements_by_tag_name('video'):\n",
      "/tmp/ipykernel_71393/1319639555.py:88: DeprecationWarning: find_elements_by_* commands are deprecated. Please use find_elements() instead\n",
      "  img = self.driver.find_elements_by_tag_name('article img')\n",
      "/tmp/ipykernel_71393/1319639555.py:91: DeprecationWarning: find_element_by_* commands are deprecated. Please use find_element() instead\n",
      "  Next = self.driver.find_element_by_class_name(\"_6CZji\")\n"
     ]
    },
    {
     "name": "stdout",
     "output_type": "stream",
     "text": [
      "next button found !\n",
      "next button clicked !\n",
      "next button clicked !\n",
      "next button clicked !\n",
      "next button clicked !\n",
      "next button clicked !\n",
      "next button clicked !\n",
      "next button clicked !\n",
      "Last photo of the link\n",
      "\n",
      "Downloading images of link : 1\n",
      "8\n",
      "100% [........................................................] 6660 / 6660next button found !\n",
      "next button clicked !\n",
      "next button clicked !\n",
      "next button clicked !\n",
      "next button clicked !\n",
      "next button clicked !\n",
      "next button clicked !\n",
      "next button clicked !\n",
      "next button clicked !\n",
      "next button clicked !\n",
      "Last photo of the link\n",
      "\n",
      "Downloading images of link : 28\n",
      "10\n",
      "100% [........................................................] 5234 / 5234next button found !\n",
      "next button clicked !\n",
      "next button clicked !\n",
      "next button clicked !\n",
      "next button clicked !\n",
      "next button clicked !\n",
      "Last photo of the link\n",
      "\n",
      "Downloading images of link : 55\n",
      "6\n",
      "100% [........................................................] 4764 / 4764next button found !\n",
      "next button clicked !\n",
      "next button clicked !\n",
      "next button clicked !\n",
      "next button clicked !\n",
      "next button clicked !\n",
      "Last photo of the link\n",
      "\n",
      "Downloading images of link : 82\n",
      "6\n",
      "100% [........................................................] 5527 / 5527next button found !\n",
      "next button clicked !\n",
      "next button clicked !\n",
      "next button clicked !\n",
      "next button clicked !\n",
      "next button clicked !\n",
      "next button clicked !\n",
      "next button clicked !\n",
      "next button clicked !\n",
      "next button clicked !\n",
      "Last photo of the link\n",
      "\n",
      "Downloading images of link : 110\n",
      "10\n",
      "100% [........................................................] 5523 / 5523next button found !\n",
      "next button clicked !\n",
      "next button clicked !\n",
      "next button clicked !\n",
      "next button clicked !\n",
      "next button clicked !\n",
      "next button clicked !\n",
      "next button clicked !\n",
      "next button clicked !\n",
      "next button clicked !\n",
      "Last photo of the link\n",
      "\n",
      "Downloading images of link : 137\n",
      "10\n",
      "100% [........................................................] 6068 / 6068next button found !\n",
      "next button clicked !\n",
      "next button clicked !\n",
      "next button clicked !\n",
      "next button clicked !\n",
      "next button clicked !\n",
      "next button clicked !\n",
      "next button clicked !\n",
      "next button clicked !\n",
      "next button clicked !\n",
      "Last photo of the link\n",
      "\n",
      "Downloading images of link : 164\n",
      "10\n",
      "100% [........................................................] 7920 / 7920next button found !\n",
      "next button clicked !\n",
      "next button clicked !\n",
      "next button clicked !\n",
      "next button clicked !\n",
      "Last photo of the link\n",
      "\n",
      "Downloading images of link : 191\n",
      "5\n",
      "100% [........................................................] 5928 / 5928next button found !\n",
      "next button clicked !\n",
      "next button clicked !\n",
      "next button clicked !\n",
      "next button clicked !\n",
      "next button clicked !\n",
      "next button clicked !\n",
      "next button clicked !\n",
      "next button clicked !\n",
      "next button clicked !\n",
      "Last photo of the link\n",
      "\n",
      "Downloading images of link : 218\n",
      "10\n",
      "100% [........................................................] 5962 / 5962next button found !\n",
      "next button clicked !\n",
      "next button clicked !\n",
      "next button clicked !\n",
      "next button clicked !\n",
      "next button clicked !\n",
      "next button clicked !\n",
      "Last photo of the link\n",
      "\n",
      "Downloading images of link : 245\n",
      "7\n",
      "100% [........................................................] 7735 / 7735next button found !\n",
      "next button clicked !\n",
      "next button clicked !\n",
      "next button clicked !\n",
      "next button clicked !\n",
      "next button clicked !\n",
      "next button clicked !\n",
      "next button clicked !\n",
      "next button clicked !\n",
      "next button clicked !\n",
      "Last photo of the link\n",
      "\n",
      "Downloading images of link : 272\n",
      "10\n",
      "100% [........................................................] 6765 / 6765next button found !\n",
      "next button clicked !\n",
      "next button clicked !\n",
      "next button clicked !\n",
      "next button clicked !\n",
      "next button clicked !\n",
      "next button clicked !\n",
      "next button clicked !\n",
      "next button clicked !\n",
      "next button clicked !\n",
      "Last photo of the link\n",
      "\n",
      "Downloading images of link : 299\n",
      "10\n",
      "100% [........................................................] 5939 / 5939next button found !\n",
      "next button clicked !\n",
      "next button clicked !\n",
      "next button clicked !\n",
      "next button clicked !\n",
      "next button clicked !\n",
      "next button clicked !\n",
      "next button clicked !\n",
      "Last photo of the link\n",
      "\n",
      "Downloading images of link : 326\n",
      "8\n",
      "100% [........................................................] 7815 / 7815next button found !\n",
      "next button clicked !\n",
      "next button clicked !\n",
      "next button clicked !\n",
      "next button clicked !\n",
      "Last photo of the link\n",
      "\n",
      "Downloading images of link : 353\n",
      "5\n",
      "100% [........................................................] 6347 / 6347next button found !\n",
      "next button clicked !\n",
      "next button clicked !\n",
      "next button clicked !\n",
      "next button clicked !\n",
      "Last photo of the link\n",
      "\n",
      "Downloading images of link : 380\n",
      "5\n",
      "100% [........................................................] 6837 / 6837next button found !\n",
      "next button clicked !\n",
      "next button clicked !\n",
      "next button clicked !\n",
      "next button clicked !\n",
      "next button clicked !\n",
      "next button clicked !\n",
      "next button clicked !\n",
      "next button clicked !\n",
      "next button clicked !\n",
      "Last photo of the link\n",
      "\n",
      "Downloading images of link : 407\n",
      "10\n",
      "100% [........................................................] 4919 / 4919Last photo of the link\n",
      "\n",
      "Downloading images of link : 434\n",
      "1\n",
      "100% [........................................................] 7265 / 7265Checking all the files \n"
     ]
    }
   ],
   "source": [
    "class Instagarm():\n",
    "    \n",
    "    def __init__(self,username, password, keyword, search_id, n_scrolls):\n",
    "        self.username = username\n",
    "        self.password = password\n",
    "        self.keyword = keyword\n",
    "        self.search_id = search_id\n",
    "        self.n_scrolls =n_scrolls\n",
    "        self.driver = webdriver.Chrome('/home/Bingo/App/driver/chromedriver') \n",
    "        self.driver.get(\"https://www.instagram.com/\")\n",
    "        # self.driver.minimize_window()\n",
    "        \n",
    "    def login(self):\n",
    "        username = WebDriverWait(self.driver,10).until(EC.element_to_be_clickable((By.CSS_SELECTOR , \"input[name='username']\")))\n",
    "        password = WebDriverWait(self.driver,10).until(EC.element_to_be_clickable((By.CSS_SELECTOR , \"input[name='password']\")))\n",
    "        username.clear()\n",
    "        username.send_keys(self.username)\n",
    "        password.clear()\n",
    "        password.send_keys(self.password)\n",
    "        WebDriverWait(self.driver,2).until(EC.element_to_be_clickable((By.CSS_SELECTOR , \"button[type='submit']\"))).click()\n",
    "        time.sleep(5)\n",
    "        WebDriverWait(self.driver, 15).until(EC.element_to_be_clickable((By.XPATH, '//button[contains(text(), \"Not Now\")]'))).click()\n",
    "        WebDriverWait(self.driver, 15).until(EC.element_to_be_clickable((By.XPATH, '//button[contains(text(), \"Not Now\")]'))).click()\n",
    "\n",
    "    def Processing(self):\n",
    "        search = WebDriverWait(self.driver, 10).until(EC.element_to_be_clickable((By.XPATH, \"//input[@placeholder='Search']\")))\n",
    "#       search = WebDriverWait(driver,1).until(EC.element_to_be_clickable((By.CSS_SELECTOR,\"input[placeholder='Search']\")))\n",
    "        search.send_keys(self.keyword)\n",
    "        time.sleep(5)\n",
    "        search.send_keys(Keys.ENTER)\n",
    "        search.send_keys(Keys.ENTER)\n",
    "        for j in range(0, self.n_scrolls):\n",
    "            time.sleep(5)\n",
    "            self.driver.execute_script(\"window.scrollTo(0, document.body.scrollHeight);\")\n",
    "        anchors = self.driver.find_elements_by_tag_name('a')\n",
    "        anchors = [a.get_attribute('href') for a in anchors]\n",
    "        anchors = [a for a in anchors if str(a).startswith(\"https://www.instagram.com/p/\")]\n",
    "        print('Found ' + str(len(anchors)) + ' links to images')\n",
    "        #follow each image link and extract only image at index=1\n",
    "        path = os.getcwd()\n",
    "        path = os.path.join(path, self.keyword[1:] + \"s\")\n",
    "        #create the directory\n",
    "        os.mkdir(path)\n",
    "        counter = 0\n",
    "        for a in anchors:\n",
    "            self.driver.get(a)\n",
    "            time.sleep(5)\n",
    "            img = self.driver.find_elements_by_tag_name('img')\n",
    "            img = [i.get_attribute('src') for i in img]\n",
    "            counter += 1\n",
    "            print(\"\\nDownloading image: {}\".format(counter))\n",
    "            save_as = os.path.join(path, self.keyword[1:] + str(counter) + '.jpg')\n",
    "            try:\n",
    "                wget.download(img[0], save_as)\n",
    "            except Exception as e:\n",
    "                print(\"\\nError occured while downloading image {} : {}\".format(counter,e))\n",
    "        print(\"\\nPhotos stored on path : {} \\n Total shaved photos : {} \".format(path,counter))\n",
    "        \n",
    "    def Processing2(self):\n",
    "        search = WebDriverWait(self.driver,1).until(EC.element_to_be_clickable((By.CSS_SELECTOR,\"input[placeholder='Search']\")))\n",
    "        search.send_keys(self.search_id)\n",
    "        time.sleep(5)\n",
    "        search.send_keys(Keys.ENTER)\n",
    "        search.send_keys(Keys.ENTER)\n",
    "        for i in range(self.n_scrolls):\n",
    "            time.sleep(5)\n",
    "            self.driver.execute_script(\"window.scrollTo(0,document.body.scrollHeight);\")\n",
    "        anchors = self.driver.find_elements_by_tag_name('a')\n",
    "        anchors = [a.get_attribute('href') for a in anchors]\n",
    "        anchors = [a for a in anchors if str(a).startswith('https://www.instagram.com/p')]\n",
    "        print('Found ' + str(len(anchors)) + ' links to images')\n",
    "        #follow each image link and extract only image at index=1\n",
    "        path = os.getcwd()\n",
    "        path = os.path.join(path, self.search_id)\n",
    "        #create the directory\n",
    "        try:\n",
    "            os.mkdir(path)\n",
    "        except FileExistsError:\n",
    "            print(\"Folder already found\")\n",
    "        counter = 1\n",
    "        \n",
    "        for a in anchors:\n",
    "            photos_on_link = 1\n",
    "            self.driver.get(a)\n",
    "            time.sleep(5)\n",
    "            if self.driver.find_elements_by_tag_name('video'):\n",
    "                continue\n",
    "            img = self.driver.find_elements_by_tag_name('article img')\n",
    "            img = [i.get_attribute('src') for i in img]\n",
    "            try: \n",
    "                Next = self.driver.find_element_by_class_name(\"_6CZji\")\n",
    "                print(\"next button found !\")\n",
    "                for x in range(15):\n",
    "                    Next.click()\n",
    "                    print(\"next button clicked !\")\n",
    "                    photos_on_link += 1\n",
    "            except Exception as e:\n",
    "                print(\"Last photo of the link\")\n",
    "            \n",
    "            print(\"\\nDownloading images of link : {}\".format(counter))\n",
    "            \n",
    "            print(photos_on_link)\n",
    "            try:\n",
    "                for s in range(len(img)):\n",
    "                    save_as = os.path.join(path, self.search_id + str(counter) + '.jpg')\n",
    "                    wget.download(img[s], save_as)\n",
    "                    counter += 1\n",
    "            except Exception as e:\n",
    "                print(\"\\nError occured while downloading image {} : {}\".format(counter,e))\n",
    "        print(\"Checking all the files \")\n",
    "        for x in range(counter):\n",
    "            pwd = os.path.join(path,self.search_id + str(x) + '.jpg')\n",
    "            try:\n",
    "                if (os.path.getsize(pwd)/1024) < 100:\n",
    "                    os.remove(pwd)\n",
    "                    counter-=1\n",
    "            except:\n",
    "                continue\n",
    "        print(\"Total images : {}\".format(counter))\n",
    "        \n",
    "    def Processing3(self):\n",
    "        search = WebDriverWait(self.driver,1).until(EC.element_to_be_clickable((By.CSS_SELECTOR,\"input[placeholder='Search']\")))\n",
    "        search.send_keys(self.search_id)\n",
    "        time.sleep(5)\n",
    "        search.send_keys(Keys.ENTER)\n",
    "        search.send_keys(Keys.ENTER)\n",
    "        for i in range(self.n_scrolls):\n",
    "            time.sleep(1)\n",
    "            self.driver.execute_script(\"window.scrollTo(0,document.body.scrollHeight);\")\n",
    "        anchors = []\n",
    "        try :\n",
    "            for i in range(self.n_scrolls):\n",
    "                self.driver.execute_script(\"window.scrollTo(0,document.body.scrollHeight);\")\n",
    "            anchor = self.driver.find_elements_by_tag_name('a')\n",
    "            anchors = [a.get_attribute('href') for a in anchor]\n",
    "            anchors = [a for a in anchors if str(a).startswith('https://www.instagram.com/p')]\n",
    "            print('Found ' + str(len(anchors)) + ' links to images')\n",
    "            #follow each image link and extract only image at index=1\n",
    "            path = os.getcwd()\n",
    "            path = os.path.join(path, self.search_id)\n",
    "            #create the directory\n",
    "            try:\n",
    "                os.mkdir(path)\n",
    "            except FileExistsError:\n",
    "                print(\"Folder already found\")\n",
    "            counter = 1\n",
    "            links = 1\n",
    "            for a in anchors:\n",
    "                self.driver.get(a)\n",
    "                time.sleep(5)\n",
    "                if self.driver.find_elements_by_tag_name('video'):\n",
    "                    continue\n",
    "                img = self.driver.find_elements_by_tag_name('article img')\n",
    "                img = [i.get_attribute('src') for i in img]\n",
    "                \n",
    "                print(\"\\nDownloading images of link : {}\".format(links))\n",
    "                lilinks+=1\n",
    "                try:\n",
    "                    for s in range(len(img)):\n",
    "                        save_as = os.path.join(path, 'pic' + str(counter) + '.jpg')\n",
    "                        wget.download(img[s], save_as)\n",
    "                        counter += 1\n",
    "                except Exception as e:\n",
    "                    print(\"\\nError occured while downloading image {} : {}\".format(counter,e))\n",
    "            print(\"\\n Checking all the files \")\n",
    "            for x in range(counter):\n",
    "                pwd = os.path.join(path, 'pic' + str(x) + '.jpg')\n",
    "                try:\n",
    "                    if (os.path.getsize(pwd)/1024) < 100:\n",
    "                        os.remove(pwd)\n",
    "                        counter-=1\n",
    "                except:\n",
    "                    continue\n",
    "            print(\"Total images : {}\".format(counter))\n",
    "        except Exception as e:\n",
    "            print(\"Exception occured \",e)\n",
    "        \n",
    "api = Instagarm('travellingthroughtheworlds','will62448@gmail.com291','#travellingthroughtheworld',\"travellingthroughtheworld\",5)    \n",
    "api.login()\n",
    "api.Processing2()"
   ]
  },
  {
   "cell_type": "markdown",
   "id": "304b9de3-df84-4cd1-9b5d-c55ac8b428d3",
   "metadata": {},
   "source": [
    "## Practice"
   ]
  },
  {
   "cell_type": "code",
   "execution_count": null,
   "id": "ca043c4f-3498-4a3c-9c35-f8a07abbbbff",
   "metadata": {},
   "outputs": [],
   "source": [
    "from selenium import webdriver\n",
    "import time\n",
    "driver = webdriver.Chrome('/home/Bingo/App/driver/chromedriver') # Optional argument, if not specified will search path.\n",
    "# file = driver.get(\"https://www.instagram.com/p/CZwf4q6M44N/?utm_source=ig_web_copy_link\")\n",
    "# driver.close()"
   ]
  },
  {
   "cell_type": "code",
   "execution_count": 4,
   "id": "4d847082-3129-4dcf-82b6-b5d048d32dae",
   "metadata": {},
   "outputs": [],
   "source": [
    "from python_api_instagram.instagramAPI import instagramAPI "
   ]
  },
  {
   "cell_type": "code",
   "execution_count": null,
   "id": "efa683f5-68f7-4c04-aba8-a4d8a5a09b2b",
   "metadata": {
    "tags": []
   },
   "outputs": [],
   "source": [
    "api = Instagarm('travellingthroughtheworlds','will62448@gmail.com291','#travellingthroughtheworld',\"travellingthroughtheworld\",10)\n"
   ]
  },
  {
   "cell_type": "code",
   "execution_count": null,
   "id": "faa90a20-f31d-456b-9258-b6f7d6eae073",
   "metadata": {},
   "outputs": [],
   "source": [
    "path = os.path.join(os.getcwd(),'travellingthroughtheworld')\n",
    "for x in range(1,249):\n",
    "    pwd = os.path.join(path,'travellingthroughtheworld'+str(x)+'.jpg')\n",
    "    try:\n",
    "        if (os.path.getsize(pwd)/1024) < 100:\n",
    "            os.remove(pwd)\n",
    "    except:\n",
    "        continue"
   ]
  },
  {
   "cell_type": "code",
   "execution_count": 89,
   "id": "ef41631b-10a7-4074-ac6d-5935a0da6704",
   "metadata": {},
   "outputs": [
    {
     "name": "stderr",
     "output_type": "stream",
     "text": [
      "/tmp/ipykernel_71393/3073610149.py:1: DeprecationWarning: executable_path has been deprecated, please pass in a Service object\n",
      "  driver = webdriver.Chrome('/home/Bingo/App/driver/chromedriver')\n"
     ]
    }
   ],
   "source": [
    "driver = webdriver.Chrome('/home/Bingo/App/driver/chromedriver')\n",
    "driver.get(\"https://www.instagram.com/\")\n",
    "username = 'travellingthroughtheworlds'\n",
    "password = 'will62448@gmail.com291'"
   ]
  },
  {
   "cell_type": "code",
   "execution_count": 90,
   "id": "7d9912ae-53da-42db-bae5-0eb79ac6ebdf",
   "metadata": {},
   "outputs": [],
   "source": [
    "usrname = WebDriverWait(driver,10).until(EC.element_to_be_clickable((By.CSS_SELECTOR,\"input[name='username']\")))\n",
    "usrname.send_keys(username)"
   ]
  },
  {
   "cell_type": "code",
   "execution_count": 91,
   "id": "6f276d1b-7413-4470-b9f1-06869e55000f",
   "metadata": {},
   "outputs": [],
   "source": [
    "passwd = WebDriverWait(driver,5).until(EC.element_to_be_clickable((By.CSS_SELECTOR, \"input[name='password']\")))\n",
    "passwd.send_keys(password)"
   ]
  },
  {
   "cell_type": "code",
   "execution_count": 92,
   "id": "3cbc15f9-8f2e-4eda-aec7-36ee68d812cc",
   "metadata": {},
   "outputs": [],
   "source": [
    "WebDriverWait(driver,5).until(EC.element_to_be_clickable((By.CSS_SELECTOR,\"button[type='submit']\"))).click()"
   ]
  },
  {
   "cell_type": "code",
   "execution_count": 93,
   "id": "50df3335-c6d9-45ba-a9c8-eabcf68150c9",
   "metadata": {},
   "outputs": [],
   "source": [
    "WebDriverWait(driver,5).until(EC.element_to_be_clickable((By.XPATH , \"//button[contains(text(),'Not Now')]\"))).click()"
   ]
  },
  {
   "cell_type": "code",
   "execution_count": 94,
   "id": "f8f74df8-1641-4fcc-ae57-a4703d3e85ec",
   "metadata": {},
   "outputs": [],
   "source": [
    "WebDriverWait(driver,5).until(EC.element_to_be_clickable((By.XPATH , \"//button[contains(text(),'Not Now')]\"))).click()"
   ]
  },
  {
   "cell_type": "code",
   "execution_count": 95,
   "id": "5a6a16fe-d7e8-4c9e-b2e0-aed8ffe9c00a",
   "metadata": {},
   "outputs": [],
   "source": [
    "search = WebDriverWait(driver,1).until(EC.element_to_be_clickable((By.CSS_SELECTOR,\"input[placeholder='Search']\")))"
   ]
  },
  {
   "cell_type": "code",
   "execution_count": 96,
   "id": "c9c99755-bc28-409e-9130-c3a4d205626d",
   "metadata": {},
   "outputs": [],
   "source": [
    "search.send_keys('travellingthroughtheworld')\n",
    "time.sleep(5)\n",
    "search.send_keys(Keys.ENTER)\n",
    "search.send_keys(Keys.ENTER)"
   ]
  },
  {
   "cell_type": "code",
   "execution_count": 11,
   "id": "b06809f4-041d-4bfd-896c-30a152d43d46",
   "metadata": {},
   "outputs": [],
   "source": [
    "time.sleep(5)\n",
    "search.send_keys(Keys.ENTER)\n",
    "search.send_keys(Keys.ENTER)"
   ]
  },
  {
   "cell_type": "code",
   "execution_count": 98,
   "id": "a8c0c290-c173-4414-a7df-02739f0c29c8",
   "metadata": {},
   "outputs": [],
   "source": [
    "for i in range(0,2):\n",
    "    time.sleep(2)\n",
    "    driver.execute_script(\"window.scrollTo(0,document.body.scrollHeight);\")"
   ]
  },
  {
   "cell_type": "code",
   "execution_count": 99,
   "id": "f49b5ec5-5630-4491-8fbc-ac7f729c4ee8",
   "metadata": {},
   "outputs": [
    {
     "name": "stderr",
     "output_type": "stream",
     "text": [
      "/tmp/ipykernel_71393/391307825.py:1: DeprecationWarning: find_elements_by_* commands are deprecated. Please use find_elements() instead\n",
      "  anchors = driver.find_elements_by_tag_name('a')\n"
     ]
    }
   ],
   "source": [
    "anchors = driver.find_elements_by_tag_name('a')"
   ]
  },
  {
   "cell_type": "code",
   "execution_count": null,
   "id": "cf158b15-a3ce-4112-af11-a52e0024eb09",
   "metadata": {},
   "outputs": [],
   "source": [
    "for a in anchors:\n",
    "    print(a.get_attribute('href'))"
   ]
  },
  {
   "cell_type": "code",
   "execution_count": 100,
   "id": "bb1151c4-eb0d-491f-af41-4543fa6801da",
   "metadata": {},
   "outputs": [],
   "source": [
    "anchors = [a.get_attribute('href') for a in anchors]"
   ]
  },
  {
   "cell_type": "code",
   "execution_count": 101,
   "id": "eb1d4333-7ab6-4923-8f88-0efcf85c8c35",
   "metadata": {},
   "outputs": [],
   "source": [
    "anchors = [a for a in anchors if str(a).startswith('https://www.instagram.com/p')]"
   ]
  },
  {
   "cell_type": "code",
   "execution_count": 105,
   "id": "adb53508-9074-4ec1-b2e6-a4fca841b4ef",
   "metadata": {},
   "outputs": [
    {
     "data": {
      "text/plain": [
       "['https://www.instagram.com/p/CZP95k4orSa/',\n",
       " 'https://www.instagram.com/p/CZPg7F5Jusb/',\n",
       " 'https://www.instagram.com/p/CZNVw2HrPqz/',\n",
       " 'https://www.instagram.com/p/CZM8gDGpEpi/',\n",
       " 'https://www.instagram.com/p/CZKyma3odu4/']"
      ]
     },
     "execution_count": 105,
     "metadata": {},
     "output_type": "execute_result"
    }
   ],
   "source": [
    "anchors[-5:]"
   ]
  },
  {
   "cell_type": "code",
   "execution_count": 103,
   "id": "5616f3a6-fd28-4590-b26a-9b13c5af7225",
   "metadata": {},
   "outputs": [
    {
     "data": {
      "text/plain": [
       "36"
      ]
     },
     "execution_count": 103,
     "metadata": {},
     "output_type": "execute_result"
    }
   ],
   "source": [
    "len(anchors)"
   ]
  },
  {
   "cell_type": "code",
   "execution_count": null,
   "id": "ac99b925-1a88-4d79-acca-73079fa81e8e",
   "metadata": {},
   "outputs": [],
   "source": []
  },
  {
   "cell_type": "code",
   "execution_count": 66,
   "id": "fac27ace-dfcd-41d6-a412-741a45bacb88",
   "metadata": {
    "tags": []
   },
   "outputs": [],
   "source": [
    "driver.get(anchors[1])"
   ]
  },
  {
   "cell_type": "code",
   "execution_count": 73,
   "id": "98369b5a-7884-47f0-8fbf-c608cf635cb5",
   "metadata": {},
   "outputs": [
    {
     "name": "stderr",
     "output_type": "stream",
     "text": [
      "/tmp/ipykernel_71393/2028837363.py:1: DeprecationWarning: find_elements_by_* commands are deprecated. Please use find_elements() instead\n",
      "  img = driver.find_elements_by_tag_name('article img')\n"
     ]
    }
   ],
   "source": [
    "img = driver.find_elements_by_tag_name('article img')\n",
    "img = [i.get_attribute('src') for i in img]"
   ]
  },
  {
   "cell_type": "code",
   "execution_count": 74,
   "id": "fcbb4623-2768-48e9-847a-37c9b6c6a723",
   "metadata": {},
   "outputs": [
    {
     "data": {
      "text/plain": [
       "27"
      ]
     },
     "execution_count": 74,
     "metadata": {},
     "output_type": "execute_result"
    }
   ],
   "source": [
    "len(img)"
   ]
  },
  {
   "cell_type": "code",
   "execution_count": 22,
   "id": "67095758-6c21-42e8-b16c-f46d43528a28",
   "metadata": {},
   "outputs": [
    {
     "name": "stderr",
     "output_type": "stream",
     "text": [
      "/tmp/ipykernel_66940/3004823290.py:2: DeprecationWarning: find_element_by_* commands are deprecated. Please use find_element() instead\n",
      "  Next = driver.find_element_by_class_name(\"_6CZji\")\n"
     ]
    },
    {
     "name": "stdout",
     "output_type": "stream",
     "text": [
      "next button found !\n",
      "next button clicked !\n",
      "next button clicked !\n",
      "next button clicked !\n",
      "Last photo of the link\n"
     ]
    }
   ],
   "source": [
    "try: \n",
    "    Next = driver.find_element_by_class_name(\"_6CZji\")\n",
    "    print(\"next button found !\")\n",
    "    for x in range(15):\n",
    "        Next.click()\n",
    "        print(\"next button clicked !\")\n",
    "except Exception as e:\n",
    "    print(\"Last photo of the link\")"
   ]
  },
  {
   "cell_type": "code",
   "execution_count": 66,
   "id": "89e0e898-49e1-48bc-b23d-5260f8d54847",
   "metadata": {},
   "outputs": [],
   "source": [
    "driver.get(anchors[0])"
   ]
  },
  {
   "cell_type": "code",
   "execution_count": null,
   "id": "fa9a2fa5-e541-43e7-a626-a7b3c2adb446",
   "metadata": {},
   "outputs": [],
   "source": [
    "Next = WebDriverWait(driver,2).until(EC.element_to_be_clickable((By.XPATH,\"//button[aria-labe='Next']\"))).click()"
   ]
  },
  {
   "cell_type": "code",
   "execution_count": 68,
   "id": "a90cf66d-60d3-461e-9314-1504d3b2ea1e",
   "metadata": {},
   "outputs": [
    {
     "name": "stderr",
     "output_type": "stream",
     "text": [
      "/tmp/ipykernel_55933/4244669448.py:1: DeprecationWarning: find_element_by_* commands are deprecated. Please use find_element() instead\n",
      "  Next1 = driver.find_element_by_class_name(\"_6CZji\")\n"
     ]
    }
   ],
   "source": [
    "Next = WebDriverWait(driver,2).until(EC.element_to_be_clickable((By.XPATH,\"//button[aria-labe='Next']\"))).click()\n",
    "Next = driver.find_element_by_class_name(\"_6CZji\")"
   ]
  },
  {
   "cell_type": "code",
   "execution_count": 69,
   "id": "1b1b30c2-fb38-424b-9316-d0b8ad325630",
   "metadata": {},
   "outputs": [
    {
     "name": "stderr",
     "output_type": "stream",
     "text": [
      "/tmp/ipykernel_55933/1900124037.py:1: DeprecationWarning: find_elements_by_* commands are deprecated. Please use find_elements() instead\n",
      "  img = driver.find_elements_by_tag_name('img')\n"
     ]
    }
   ],
   "source": [
    "img = driver.find_elements_by_tag_name('img')\n",
    "img = [i.get_attribute('src') for i in img]\n",
    "try:\n",
    "    for x in range(15):\n",
    "        Next1.click()\n",
    "except Exception as e:\n",
    "    print(\"Last photo of the link\")"
   ]
  }
 ],
 "metadata": {
  "kernelspec": {
   "display_name": "Python 3 (ipykernel)",
   "language": "python",
   "name": "python3"
  },
  "language_info": {
   "codemirror_mode": {
    "name": "ipython",
    "version": 3
   },
   "file_extension": ".py",
   "mimetype": "text/x-python",
   "name": "python",
   "nbconvert_exporter": "python",
   "pygments_lexer": "ipython3",
   "version": "3.9.7"
  }
 },
 "nbformat": 4,
 "nbformat_minor": 5
}
