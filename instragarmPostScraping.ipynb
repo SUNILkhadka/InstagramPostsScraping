{
 "cells": [
  {
   "cell_type": "code",
   "execution_count": 4,
   "id": "4d847082-3129-4dcf-82b6-b5d048d32dae",
   "metadata": {},
   "outputs": [],
   "source": [
    "from python_api_instagram.instagramAPI import instagramAPI "
   ]
  },
  {
   "cell_type": "code",
   "execution_count": 5,
   "id": "7b767d59-b226-4cf8-b89f-9644d84052b1",
   "metadata": {},
   "outputs": [
    {
     "name": "stdout",
     "output_type": "stream",
     "text": [
      "{\"message\":\"You are not subscribed to this API.\"}\n"
     ]
    }
   ],
   "source": [
    "import requests\n",
    "\n",
    "url = \"https://instagram85.p.rapidapi.com/account/jlo/info\"\n",
    "\n",
    "headers = {\n",
    "    'x-rapidapi-host': \"instagram85.p.rapidapi.com\",\n",
    "    'x-rapidapi-key': \"98a1c8918dmsh69d6a8a72b150d0p1e60eajsne894d940d424\"\n",
    "    }\n",
    "\n",
    "response = requests.request(\"GET\", url, headers=headers)\n",
    "\n",
    "print(response.text)"
   ]
  },
  {
   "cell_type": "code",
   "execution_count": 19,
   "id": "ca043c4f-3498-4a3c-9c35-f8a07abbbbff",
   "metadata": {},
   "outputs": [
    {
     "name": "stderr",
     "output_type": "stream",
     "text": [
      "/tmp/ipykernel_19585/2964600570.py:3: DeprecationWarning: executable_path has been deprecated, please pass in a Service object\n",
      "  driver = webdriver.Chrome('/home/Bingo/App/driver/chromedriver') # Optional argument, if not specified will search path.\n"
     ]
    },
    {
     "ename": "AttributeError",
     "evalue": "'WebDriver' object has no attribute 'navigate'",
     "output_type": "error",
     "traceback": [
      "\u001b[0;31m---------------------------------------------------------------------------\u001b[0m",
      "\u001b[0;31mAttributeError\u001b[0m                            Traceback (most recent call last)",
      "\u001b[0;32m/tmp/ipykernel_19585/2964600570.py\u001b[0m in \u001b[0;36m<module>\u001b[0;34m\u001b[0m\n\u001b[1;32m      4\u001b[0m \u001b[0;31m# file = driver.get(\"https://www.instagram.com/p/CZwf4q6M44N/?utm_source=ig_web_copy_link\")\u001b[0m\u001b[0;34m\u001b[0m\u001b[0;34m\u001b[0m\u001b[0m\n\u001b[1;32m      5\u001b[0m \u001b[0;31m# driver.close()\u001b[0m\u001b[0;34m\u001b[0m\u001b[0;34m\u001b[0m\u001b[0m\n\u001b[0;32m----> 6\u001b[0;31m \u001b[0mdriver\u001b[0m\u001b[0;34m.\u001b[0m\u001b[0mnavigate\u001b[0m\u001b[0;34m(\u001b[0m\u001b[0;34m)\u001b[0m\u001b[0;34m.\u001b[0m\u001b[0mto\u001b[0m\u001b[0;34m(\u001b[0m\u001b[0;34m\"https://www.instagram.com/p/CZwf4q6M44N/?utm_source=ig_web_copy_link\"\u001b[0m\u001b[0;34m)\u001b[0m\u001b[0;34m\u001b[0m\u001b[0;34m\u001b[0m\u001b[0m\n\u001b[0m",
      "\u001b[0;31mAttributeError\u001b[0m: 'WebDriver' object has no attribute 'navigate'"
     ]
    }
   ],
   "source": [
    "from selenium import webdriver\n",
    "import time\n",
    "driver = webdriver.Chrome('/home/Bingo/App/driver/chromedriver') # Optional argument, if not specified will search path.\n",
    "# file = driver.get(\"https://www.instagram.com/p/CZwf4q6M44N/?utm_source=ig_web_copy_link\")\n",
    "# driver.close()"
   ]
  },
  {
   "cell_type": "code",
   "execution_count": 7,
   "id": "56947d43-7b44-469e-9c87-66a8962c0ae4",
   "metadata": {},
   "outputs": [
    {
     "name": "stdout",
     "output_type": "stream",
     "text": [
      "None\n"
     ]
    }
   ],
   "source": [
    "print(file)"
   ]
  },
  {
   "cell_type": "code",
   "execution_count": null,
   "id": "fd490f8c-203e-4960-8068-e2c6ac23ce34",
   "metadata": {},
   "outputs": [],
   "source": [
    "import requests\n",
    "from bs4 import BeautifulSoup\n",
    "response = requests.get(\"https://www.instagram.com/p/CZwf4q6M44N/?utm_source=ig_web_copy_link\")"
   ]
  },
  {
   "cell_type": "code",
   "execution_count": null,
   "id": "e0dfe4e4-67f2-4392-8619-4744a6ccaa4f",
   "metadata": {},
   "outputs": [],
   "source": [
    "soup = BeautifulSoup(response.text,'html.parser')\n",
    "soup"
   ]
  },
  {
   "cell_type": "code",
   "execution_count": null,
   "id": "2410d0ca-54e0-4ae0-a2a8-526724788c4f",
   "metadata": {},
   "outputs": [],
   "source": [
    "from selenium import webdriver\n",
    "import time\n",
    "\n",
    "options = webdriver.ChromeOptions()\n",
    "options.add_argument('--ignore-certificate-errors')\n",
    "options.add_argument(\"--test-type\")\n",
    "options.binary_location = \"/usr/bin/chromium\"\n",
    "driver = webdriver.Chrome(chrome_options=options)\n",
    "driver.get('https://python.org')"
   ]
  },
  {
   "cell_type": "code",
   "execution_count": null,
   "id": "e49daf3e-98f0-400e-8eeb-1aae5b049fe7",
   "metadata": {},
   "outputs": [],
   "source": [
    "webdriver.Firefox()"
   ]
  },
  {
   "cell_type": "code",
   "execution_count": 26,
   "id": "2dda6c59-00c5-4fc1-a276-9db12449ccc3",
   "metadata": {},
   "outputs": [],
   "source": [
    "from selenium import webdriver\n",
    "from selenium.webdriver.common.keys import Keys\n",
    "from selenium.webdriver.common.by import By\n",
    "from selenium.webdriver.support import expected_conditions as EC\n",
    "from selenium.webdriver.support.wait import WebDriverWait"
   ]
  },
  {
   "cell_type": "code",
   "execution_count": 52,
   "id": "706889de-a6f2-4bec-bef4-009579df8c3d",
   "metadata": {},
   "outputs": [],
   "source": [
    "import time\n",
    "import os\n",
    "import wget"
   ]
  },
  {
   "cell_type": "code",
   "execution_count": 51,
   "id": "ea8495a5-13e5-4bed-9e34-429f02560a9c",
   "metadata": {},
   "outputs": [
    {
     "name": "stdout",
     "output_type": "stream",
     "text": [
      "Collecting wget\n",
      "  Downloading wget-3.2.zip (10 kB)\n",
      "Building wheels for collected packages: wget\n",
      "  Building wheel for wget (setup.py) ... \u001b[?25ldone\n",
      "\u001b[?25h  Created wheel for wget: filename=wget-3.2-py3-none-any.whl size=9672 sha256=18462d05e1c08c3d02688aea935aa0134ddbd5dca40fd7363e94804cb3a97aa9\n",
      "  Stored in directory: /home/Bingo/.cache/pip/wheels/04/5f/3e/46cc37c5d698415694d83f607f833f83f0149e49b3af9d0f38\n",
      "Successfully built wget\n",
      "Installing collected packages: wget\n",
      "Successfully installed wget-3.2\n"
     ]
    }
   ],
   "source": [
    "!pip install wget"
   ]
  },
  {
   "cell_type": "code",
   "execution_count": 38,
   "id": "f97e2dcf-d135-4c66-a98c-6e87f68991a8",
   "metadata": {},
   "outputs": [
    {
     "name": "stderr",
     "output_type": "stream",
     "text": [
      "/tmp/ipykernel_19585/3190054364.py:1: DeprecationWarning: executable_path has been deprecated, please pass in a Service object\n",
      "  driver = webdriver.Chrome('/home/Bingo/App/driver/chromedriver')\n"
     ]
    }
   ],
   "source": [
    "driver = webdriver.Chrome('/home/Bingo/App/driver/chromedriver') \n",
    "driver.get(\"https://www.instagram.com/\")\n",
    "driver.minimize_window()"
   ]
  },
  {
   "cell_type": "code",
   "execution_count": 39,
   "id": "0430e2ca-e26f-40cd-a491-31164ad78173",
   "metadata": {},
   "outputs": [],
   "source": [
    "\n",
    "    \n",
    "\n",
    "login('travellingthroughtheworlds','will62448@gmail.com291')"
   ]
  },
  {
   "cell_type": "code",
   "execution_count": 92,
   "id": "8e276c82-b82e-4211-8580-1ef9816eadf9",
   "metadata": {},
   "outputs": [],
   "source": [
    "class Instagarm():\n",
    "    \n",
    "    def __init__(self,username,password,keyword,n_scrolls):\n",
    "        self.username = username\n",
    "        self.password = password\n",
    "        self.keyword = keyword\n",
    "        self.n_scrolls =n_scrolls\n",
    "        self.driver = webdriver.Chrome('/home/Bingo/App/driver/chromedriver') \n",
    "        self.driver.get(\"https://www.instagram.com/\")\n",
    "        # self.driver.minimize_window()\n",
    "        \n",
    "    def login(self):\n",
    "        username = WebDriverWait(self.driver,10).until(EC.element_to_be_clickable((By.CSS_SELECTOR , \"input[name='username']\")))\n",
    "        password = WebDriverWait(self.driver,10).until(EC.element_to_be_clickable((By.CSS_SELECTOR , \"input[name='password']\")))\n",
    "        username.clear()\n",
    "        username.send_keys(self.username)\n",
    "        password.clear()\n",
    "        password.send_keys(self.password)\n",
    "        WebDriverWait(self.driver,2).until(EC.element_to_be_clickable((By.CSS_SELECTOR , \"button[type='submit']\"))).click()\n",
    "        time.sleep(5)\n",
    "        WebDriverWait(self.driver, 15).until(EC.element_to_be_clickable((By.XPATH, '//button[contains(text(), \"Not Now\")]'))).click()\n",
    "        WebDriverWait(self.driver, 15).until(EC.element_to_be_clickable((By.XPATH, '//button[contains(text(), \"Not Now\")]'))).click()\n",
    "\n",
    "    def Processing(self):\n",
    "        search = WebDriverWait(self.driver, 10).until(EC.element_to_be_clickable((By.XPATH, \"//input[@placeholder='Search']\")))\n",
    "#       search = WebDriverWait(driver,1).until(EC.element_to_be_clickable((By.CSS_SELECTOR,\"input[placeholder='Search']\")))\n",
    "        search.send_keys(self.keyword)\n",
    "        time.sleep(5)\n",
    "        search.send_keys(Keys.ENTER)\n",
    "        search.send_keys(Keys.ENTER)\n",
    "        for j in range(0, self.n_scrolls):\n",
    "            time.sleep(5)\n",
    "            self.driver.execute_script(\"window.scrollTo(0, document.body.scrollHeight);\")\n",
    "        anchors = self.driver.find_elements_by_tag_name('a')\n",
    "        anchors = [a.get_attribute('href') for a in anchors]\n",
    "        anchors = [a for a in anchors if str(a).startswith(\"https://www.instagram.com/p/\")]\n",
    "        print('Found ' + str(len(anchors)) + ' links to images')\n",
    "        #follow each image link and extract only image at index=1\n",
    "        path = os.getcwd()\n",
    "        path = os.path.join(path, self.keyword[1:] + \"s\")\n",
    "        #create the directory\n",
    "        os.mkdir(path)\n",
    "        counter = 0\n",
    "        for a in anchors:\n",
    "            self.driver.get(a)\n",
    "            time.sleep(5)\n",
    "            img = self.driver.find_elements_by_tag_name('img')\n",
    "            img = [i.get_attribute('src') for i in img]\n",
    "            counter += 1\n",
    "            print(\"\\nDownloading image: {}\".format(counter))\n",
    "            save_as = os.path.join(path, self.keyword[1:] + str(counter) + '.jpg')\n",
    "            try:\n",
    "                wget.download(img[0], save_as)\n",
    "            except Exception as e:\n",
    "                print(\"\\nError occured while downloading image {} : {}\".format(counter,e))\n",
    "        print(\"\\nPhotos stored on path : {} \\n Total shaved photos : {} \".format(path,counter))\n",
    "            \n",
    "\n"
   ]
  },
  {
   "cell_type": "code",
   "execution_count": null,
   "id": "efa683f5-68f7-4c04-aba8-a4d8a5a09b2b",
   "metadata": {},
   "outputs": [],
   "source": [
    "api = Instagarm('travellingthroughtheworlds','will62448@gmail.com291','#travellingthroughtheworld',10)\n",
    "api.login()\n",
    "api.Processing()"
   ]
  },
  {
   "cell_type": "code",
   "execution_count": 46,
   "id": "ed9ca5d1-8cf8-4975-92a9-0b0c4a36d9d2",
   "metadata": {},
   "outputs": [],
   "source": [
    "import time\n",
    "import wget\n",
    "import os"
   ]
  },
  {
   "cell_type": "code",
   "execution_count": 26,
   "id": "b71a48be-8141-473b-a76f-e6b5452237cb",
   "metadata": {},
   "outputs": [],
   "source": [
    "from selenium import webdriver\n",
    "from selenium.webdriver.common.by import By\n",
    "from selenium.webdriver.common.keys import Keys\n",
    "from selenium.webdriver.support.wait import WebDriverWait\n",
    "from selenium.webdriver.support import expected_conditions as EC"
   ]
  },
  {
   "cell_type": "code",
   "execution_count": 27,
   "id": "ef41631b-10a7-4074-ac6d-5935a0da6704",
   "metadata": {},
   "outputs": [
    {
     "name": "stderr",
     "output_type": "stream",
     "text": [
      "/tmp/ipykernel_55933/3073610149.py:1: DeprecationWarning: executable_path has been deprecated, please pass in a Service object\n",
      "  driver = webdriver.Chrome('/home/Bingo/App/driver/chromedriver')\n"
     ]
    }
   ],
   "source": [
    "driver = webdriver.Chrome('/home/Bingo/App/driver/chromedriver')\n",
    "driver.get(\"https://www.instagram.com/\")\n",
    "username = 'travellingthroughtheworlds'\n",
    "password = 'will62448@gmail.com291'"
   ]
  },
  {
   "cell_type": "code",
   "execution_count": 28,
   "id": "7d9912ae-53da-42db-bae5-0eb79ac6ebdf",
   "metadata": {},
   "outputs": [],
   "source": [
    "usrname = WebDriverWait(driver,10).until(EC.element_to_be_clickable((By.CSS_SELECTOR,\"input[name='username']\")))\n",
    "usrname.send_keys(username)"
   ]
  },
  {
   "cell_type": "code",
   "execution_count": 29,
   "id": "6f276d1b-7413-4470-b9f1-06869e55000f",
   "metadata": {},
   "outputs": [],
   "source": [
    "passwd = WebDriverWait(driver,5).until(EC.element_to_be_clickable((By.CSS_SELECTOR, \"input[name='password']\")))\n",
    "passwd.send_keys(password)"
   ]
  },
  {
   "cell_type": "code",
   "execution_count": 30,
   "id": "3cbc15f9-8f2e-4eda-aec7-36ee68d812cc",
   "metadata": {},
   "outputs": [],
   "source": [
    "WebDriverWait(driver,5).until(EC.element_to_be_clickable((By.CSS_SELECTOR,\"button[type='submit']\"))).click()"
   ]
  },
  {
   "cell_type": "code",
   "execution_count": 31,
   "id": "50df3335-c6d9-45ba-a9c8-eabcf68150c9",
   "metadata": {},
   "outputs": [],
   "source": [
    "WebDriverWait(driver,5).until(EC.element_to_be_clickable((By.XPATH , \"//button[contains(text(),'Not Now')]\"))).click()"
   ]
  },
  {
   "cell_type": "code",
   "execution_count": 32,
   "id": "f8f74df8-1641-4fcc-ae57-a4703d3e85ec",
   "metadata": {},
   "outputs": [],
   "source": [
    "WebDriverWait(driver,5).until(EC.element_to_be_clickable((By.XPATH , \"//button[contains(text(),'Not Now')]\"))).click()"
   ]
  },
  {
   "cell_type": "code",
   "execution_count": 34,
   "id": "5a6a16fe-d7e8-4c9e-b2e0-aed8ffe9c00a",
   "metadata": {},
   "outputs": [],
   "source": [
    "search = WebDriverWait(driver,1).until(EC.element_to_be_clickable((By.CSS_SELECTOR,\"input[placeholder='Search']\")))"
   ]
  },
  {
   "cell_type": "code",
   "execution_count": 35,
   "id": "c9c99755-bc28-409e-9130-c3a4d205626d",
   "metadata": {},
   "outputs": [],
   "source": [
    "search.send_keys('travellingthroughtheworld')\n",
    "time.sleep(5)\n",
    "search.send_keys(Keys.ENTER)\n",
    "search.send_keys(Keys.ENTER)"
   ]
  },
  {
   "cell_type": "code",
   "execution_count": 11,
   "id": "b06809f4-041d-4bfd-896c-30a152d43d46",
   "metadata": {},
   "outputs": [],
   "source": [
    "time.sleep(5)\n",
    "search.send_keys(Keys.ENTER)\n",
    "search.send_keys(Keys.ENTER)"
   ]
  },
  {
   "cell_type": "code",
   "execution_count": 36,
   "id": "a8c0c290-c173-4414-a7df-02739f0c29c8",
   "metadata": {},
   "outputs": [],
   "source": [
    "for i in range(0,10):\n",
    "    time.sleep(2)\n",
    "    driver.execute_script(\"window.scrollTo(0,document.body.scrollHeight);\")"
   ]
  },
  {
   "cell_type": "code",
   "execution_count": 37,
   "id": "f49b5ec5-5630-4491-8fbc-ac7f729c4ee8",
   "metadata": {},
   "outputs": [
    {
     "name": "stderr",
     "output_type": "stream",
     "text": [
      "/tmp/ipykernel_55933/391307825.py:1: DeprecationWarning: find_elements_by_* commands are deprecated. Please use find_elements() instead\n",
      "  anchors = driver.find_elements_by_tag_name('a')\n"
     ]
    }
   ],
   "source": [
    "anchors = driver.find_elements_by_tag_name('a')"
   ]
  },
  {
   "cell_type": "code",
   "execution_count": null,
   "id": "cf158b15-a3ce-4112-af11-a52e0024eb09",
   "metadata": {},
   "outputs": [],
   "source": [
    "for a in anchors:\n",
    "    print(a.get_attribute('href'))"
   ]
  },
  {
   "cell_type": "code",
   "execution_count": 38,
   "id": "bb1151c4-eb0d-491f-af41-4543fa6801da",
   "metadata": {},
   "outputs": [],
   "source": [
    "anchors = [a.get_attribute('href') for a in anchors]"
   ]
  },
  {
   "cell_type": "code",
   "execution_count": 39,
   "id": "eb1d4333-7ab6-4923-8f88-0efcf85c8c35",
   "metadata": {},
   "outputs": [],
   "source": [
    "anchors = [a for a in anchors if str(a).startswith('https://www.instagram.com/p')]"
   ]
  },
  {
   "cell_type": "code",
   "execution_count": 40,
   "id": "adb53508-9074-4ec1-b2e6-a4fca841b4ef",
   "metadata": {},
   "outputs": [
    {
     "data": {
      "text/plain": [
       "['https://www.instagram.com/p/CYpVT3UoNsd/',\n",
       " 'https://www.instagram.com/p/CYottbhoSBX/',\n",
       " 'https://www.instagram.com/p/CYmrmmRoy6g/',\n",
       " 'https://www.instagram.com/p/CYmXWsfogp0/',\n",
       " 'https://www.instagram.com/p/CYltHP2JD8e/',\n",
       " 'https://www.instagram.com/p/CYkIknFI5PX/',\n",
       " 'https://www.instagram.com/p/CYjniaJJ_EU/',\n",
       " 'https://www.instagram.com/p/CYjSKJMoCo-/',\n",
       " 'https://www.instagram.com/p/CYhi2kBILtF/',\n",
       " 'https://www.instagram.com/p/CYhLKU6JMsb/']"
      ]
     },
     "execution_count": 40,
     "metadata": {},
     "output_type": "execute_result"
    }
   ],
   "source": [
    "anchors[:10]"
   ]
  },
  {
   "cell_type": "code",
   "execution_count": 21,
   "id": "5616f3a6-fd28-4590-b26a-9b13c5af7225",
   "metadata": {},
   "outputs": [
    {
     "data": {
      "text/plain": [
       "4"
      ]
     },
     "execution_count": 21,
     "metadata": {},
     "output_type": "execute_result"
    }
   ],
   "source": [
    "len(anchors)"
   ]
  },
  {
   "cell_type": "code",
   "execution_count": 41,
   "id": "fac27ace-dfcd-41d6-a412-741a45bacb88",
   "metadata": {
    "tags": []
   },
   "outputs": [],
   "source": [
    "driver.get(anchors[0])"
   ]
  },
  {
   "cell_type": "code",
   "execution_count": 42,
   "id": "98369b5a-7884-47f0-8fbf-c608cf635cb5",
   "metadata": {},
   "outputs": [
    {
     "name": "stderr",
     "output_type": "stream",
     "text": [
      "/tmp/ipykernel_55933/1900124037.py:1: DeprecationWarning: find_elements_by_* commands are deprecated. Please use find_elements() instead\n",
      "  img = driver.find_elements_by_tag_name('img')\n"
     ]
    }
   ],
   "source": [
    "img = driver.find_elements_by_tag_name('img')\n",
    "img = [i.get_attribute('src') for i in img]"
   ]
  },
  {
   "cell_type": "code",
   "execution_count": 44,
   "id": "fcbb4623-2768-48e9-847a-37c9b6c6a723",
   "metadata": {},
   "outputs": [
    {
     "data": {
      "text/plain": [
       "35"
      ]
     },
     "execution_count": 44,
     "metadata": {},
     "output_type": "execute_result"
    }
   ],
   "source": [
    "len(img)"
   ]
  },
  {
   "cell_type": "code",
   "execution_count": 47,
   "id": "0f45ca80-87b4-43fc-a902-da891a67e8d2",
   "metadata": {},
   "outputs": [
    {
     "name": "stdout",
     "output_type": "stream",
     "text": [
      "100% [........................................................] 8492 / 8492"
     ]
    }
   ],
   "source": [
    "count = 0\n",
    "for i in img:\n",
    "    save_as = 'pic' + str(count)\n",
    "    wget.download(i, save_as)\n",
    "    count+=1"
   ]
  },
  {
   "cell_type": "code",
   "execution_count": 66,
   "id": "89e0e898-49e1-48bc-b23d-5260f8d54847",
   "metadata": {},
   "outputs": [],
   "source": [
    "driver.get(anchors[0])"
   ]
  },
  {
   "cell_type": "code",
   "execution_count": null,
   "id": "fa9a2fa5-e541-43e7-a626-a7b3c2adb446",
   "metadata": {},
   "outputs": [],
   "source": [
    "Next = WebDriverWait(driver,2).until(EC.element_to_be_clickable((By.XPATH,\"//button[aria-labe='Next']\"))).click()"
   ]
  },
  {
   "cell_type": "code",
   "execution_count": 68,
   "id": "a90cf66d-60d3-461e-9314-1504d3b2ea1e",
   "metadata": {},
   "outputs": [
    {
     "name": "stderr",
     "output_type": "stream",
     "text": [
      "/tmp/ipykernel_55933/4244669448.py:1: DeprecationWarning: find_element_by_* commands are deprecated. Please use find_element() instead\n",
      "  Next1 = driver.find_element_by_class_name(\"_6CZji\")\n"
     ]
    }
   ],
   "source": [
    "Next1 = driver.find_element_by_class_name(\"_6CZji\")"
   ]
  },
  {
   "cell_type": "code",
   "execution_count": 69,
   "id": "1b1b30c2-fb38-424b-9316-d0b8ad325630",
   "metadata": {},
   "outputs": [
    {
     "name": "stderr",
     "output_type": "stream",
     "text": [
      "/tmp/ipykernel_55933/1900124037.py:1: DeprecationWarning: find_elements_by_* commands are deprecated. Please use find_elements() instead\n",
      "  img = driver.find_elements_by_tag_name('img')\n"
     ]
    }
   ],
   "source": [
    "img = driver.find_elements_by_tag_name('img')\n",
    "img = [i.get_attribute('src') for i in img]\n",
    "try:\n",
    "    for x in range(15):\n",
    "        Next1.click()\n",
    "except Exception as e:\n",
    "    print(\"Last photo of the link\")"
   ]
  },
  {
   "cell_type": "code",
   "execution_count": 74,
   "id": "e448d6bd-4375-4573-aa40-c0b55afaa6e6",
   "metadata": {},
   "outputs": [
    {
     "name": "stdout",
     "output_type": "stream",
     "text": [
      "Last photo of the link\n",
      "7\n"
     ]
    }
   ],
   "source": [
    "\n",
    "print(x)"
   ]
  },
  {
   "cell_type": "code",
   "execution_count": null,
   "id": "92600420-b6f2-484c-af80-29694eaed29c",
   "metadata": {},
   "outputs": [],
   "source": []
  },
  {
   "cell_type": "code",
   "execution_count": 164,
   "id": "6acf90fd-ca0b-4598-8169-5a789a793c75",
   "metadata": {},
   "outputs": [],
   "source": [
    "images = []\n",
    "for i in img:\n",
    "    images.append(i.get_attribute('src'))\n"
   ]
  },
  {
   "cell_type": "code",
   "execution_count": 165,
   "id": "d47e2032-99a1-4319-9c8b-5ccbbe2131d8",
   "metadata": {},
   "outputs": [
    {
     "data": {
      "text/plain": [
       "[None, None, None, None, None]"
      ]
     },
     "execution_count": 165,
     "metadata": {},
     "output_type": "execute_result"
    }
   ],
   "source": [
    "images[:5]"
   ]
  },
  {
   "cell_type": "code",
   "execution_count": null,
   "id": "81514a4e-b76b-47b9-bc81-25a51b6fd783",
   "metadata": {},
   "outputs": [],
   "source": []
  },
  {
   "cell_type": "code",
   "execution_count": null,
   "id": "ce1ecdbc-5c80-4f84-923a-fb6c56cce1d4",
   "metadata": {},
   "outputs": [],
   "source": []
  },
  {
   "cell_type": "code",
   "execution_count": null,
   "id": "ab7760b6-d0bf-49e1-89e7-facecf194540",
   "metadata": {},
   "outputs": [],
   "source": []
  },
  {
   "cell_type": "code",
   "execution_count": null,
   "id": "c52bea39-2545-41dc-afaf-d33bf99dbda4",
   "metadata": {},
   "outputs": [],
   "source": []
  },
  {
   "cell_type": "code",
   "execution_count": null,
   "id": "5959370f-c77e-4f4b-b7fc-25e93190a248",
   "metadata": {},
   "outputs": [],
   "source": [
    " for j in range(0, self.n_scrolls):\n",
    "            time.sleep(5)\n",
    "            self.driver.execute_script(\"window.scrollTo(0, document.body.scrollHeight);\")\n",
    "        anchors = self.driver.find_elements_by_tag_name('a')\n",
    "        anchors = [a.get_attribute('href') for a in anchors]\n",
    "        anchors = [a for a in anchors if str(a).startswith(\"https://www.instagram.com/p/\")]\n",
    "        print('Found ' + str(len(anchors)) + ' links to images')\n",
    "        #follow each image link and extract only image at index=1\n",
    "        path = os.getcwd()\n",
    "        path = os.path.join(path, self.keyword[1:] + \"s\")\n",
    "        #create the directory\n",
    "        os.mkdir(path)\n",
    "        counter = 0\n",
    "        for a in anchors:\n",
    "            self.driver.get(a)\n",
    "            time.sleep(5)\n",
    "            img = self.driver.find_elements_by_tag_name('img')\n",
    "            img = [i.get_attribute('src') for i in img]\n",
    "            counter += 1\n",
    "            print(\"\\nDownloading image: {}\".format(counter))\n",
    "            save_as = os.path.join(path, self.keyword[1:] + str(counter) + '.jpg')\n",
    "            try:\n",
    "                wget.download(img[0], save_as)\n",
    "            except Exception as e:\n",
    "                print(\"\\nError occured while downloading image {} : {}\".format(counter,e))"
   ]
  }
 ],
 "metadata": {
  "kernelspec": {
   "display_name": "Python 3 (ipykernel)",
   "language": "python",
   "name": "python3"
  },
  "language_info": {
   "codemirror_mode": {
    "name": "ipython",
    "version": 3
   },
   "file_extension": ".py",
   "mimetype": "text/x-python",
   "name": "python",
   "nbconvert_exporter": "python",
   "pygments_lexer": "ipython3",
   "version": "3.9.7"
  }
 },
 "nbformat": 4,
 "nbformat_minor": 5
}
